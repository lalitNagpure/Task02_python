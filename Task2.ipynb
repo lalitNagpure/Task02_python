{
 "cells": [
  {
   "cell_type": "markdown",
   "id": "20c6ab7c-e33e-42f7-9984-bbdcae246ae1",
   "metadata": {},
   "source": [
    "# Python String Method"
   ]
  },
  {
   "cell_type": "markdown",
   "id": "61e7bfa1-69c7-42fb-ba3f-27f7b0c7de96",
   "metadata": {},
   "source": [
    "# Capitalize() Method\n",
    "## DEFINE : The capitalize() method returns a string where the first character is upper case, and the rest is lower case.\r\n"
   ]
  },
  {
   "cell_type": "code",
   "execution_count": 17,
   "id": "2e803141-d208-4b5b-9753-38904d1e564e",
   "metadata": {},
   "outputs": [
    {
     "name": "stdout",
     "output_type": "stream",
     "text": [
      "Hello, and this is a python .\n"
     ]
    }
   ],
   "source": [
    "# Example\n",
    "text = \"hello, and this is a python .\"\n",
    "\n",
    "x = text.capitalize()\n",
    "\n",
    "print (x)"
   ]
  },
  {
   "cell_type": "markdown",
   "id": "5993c2f4-4d1a-4033-8034-3ddda28aeb76",
   "metadata": {},
   "source": [
    "# casefold() Method.\n",
    "## DEFINE : The casefold() method returns a string where all the characters are lower case."
   ]
  },
  {
   "cell_type": "code",
   "execution_count": 15,
   "id": "4a3f762f-ec22-4a78-96e3-08a6f846c774",
   "metadata": {},
   "outputs": [
    {
     "name": "stdout",
     "output_type": "stream",
     "text": [
      "hello, and this is a python \n"
     ]
    }
   ],
   "source": [
    "# Example\n",
    "text = \"Hello, And this is a python \"\n",
    "\n",
    "a = text.casefold()\n",
    "\n",
    "print(a)\n"
   ]
  },
  {
   "cell_type": "markdown",
   "id": "9c1bf97b-6e3c-41b4-b614-832ee3072d7e",
   "metadata": {},
   "source": [
    "# center() Method.\n",
    "## DEFINE : The center() method will center align the string, using a specified character (space is default) as the fill character.\n"
   ]
  },
  {
   "cell_type": "code",
   "execution_count": 43,
   "id": "cd716df9-25df-4a6a-aa9f-0166b52cefa7",
   "metadata": {},
   "outputs": [
    {
     "name": "stdout",
     "output_type": "stream",
     "text": [
      "       banana       \n"
     ]
    }
   ],
   "source": [
    "# Example\n",
    "text = \"banana\"\n",
    "\n",
    "a = text.center(20)\n",
    "\n",
    "print(a)"
   ]
  },
  {
   "cell_type": "markdown",
   "id": "17d7a2a4-22da-49bc-8752-fc4e660ecc1f",
   "metadata": {},
   "source": [
    "# count() Method.\n",
    "## DEFINE : The count() method returns the number of times a specified value appears in the string.\n"
   ]
  },
  {
   "cell_type": "code",
   "execution_count": 25,
   "id": "45360681-5149-4c2b-b06e-eb0981ea2da4",
   "metadata": {},
   "outputs": [
    {
     "name": "stdout",
     "output_type": "stream",
     "text": [
      "2\n"
     ]
    }
   ],
   "source": [
    "text = \"I love apples, apple are my favorite fruit\"\n",
    "\n",
    "a = text.count(\"apple\")\n",
    "\n",
    "print(a)"
   ]
  },
  {
   "cell_type": "markdown",
   "id": "367ff8a9-1a63-4b8d-b711-176f26e3a2a3",
   "metadata": {},
   "source": [
    "# encode() Method.\n",
    "## DEFINE : The encode() method encodes the string, using the specified encoding)"
   ]
  },
  {
   "cell_type": "code",
   "execution_count": 41,
   "id": "9152ce5b-057b-424b-a7ff-5b1f57fa9b67",
   "metadata": {},
   "outputs": [
    {
     "name": "stdout",
     "output_type": "stream",
     "text": [
      "b'My name is Lalit'\n"
     ]
    }
   ],
   "source": [
    "# Example\n",
    "text = \"My name is Lalit\"\n",
    "\n",
    "a = text.encode()\n",
    "\n",
    "print(a)"
   ]
  },
  {
   "cell_type": "markdown",
   "id": "41b9882e-cd9d-4c60-b262-0a7f3fec7c24",
   "metadata": {},
   "source": [
    "# endswith() Method.\n",
    "## DEFINE : The endswith() method returns True if the string ends with the specified value, otherwise False."
   ]
  },
  {
   "cell_type": "code",
   "execution_count": 39,
   "id": "33347f1e-4f91-4904-ae4f-f43bede271a0",
   "metadata": {},
   "outputs": [
    {
     "name": "stdout",
     "output_type": "stream",
     "text": [
      "True\n"
     ]
    }
   ],
   "source": [
    "# Example1\n",
    "text = \"hello Everyone,I am XYZ.\"\n",
    "X = text.endswith(\".\") \n",
    "print(X)"
   ]
  },
  {
   "cell_type": "code",
   "execution_count": 49,
   "id": "23c158e8-9ffd-40a1-96cf-f52e49d3b7e2",
   "metadata": {},
   "outputs": [
    {
     "name": "stdout",
     "output_type": "stream",
     "text": [
      "False\n"
     ]
    }
   ],
   "source": [
    "# Example2\n",
    "text = \"hello Everyone,I am XYZ !\"\n",
    "X = text.endswith(\".\") \n",
    "print(X)"
   ]
  },
  {
   "cell_type": "markdown",
   "id": "b893eed2-c539-4977-9425-3efda1495f47",
   "metadata": {},
   "source": [
    "# expandtabs() Method\n",
    "## DEFINE : The expandtabs() method sets the tab size to the specified number of whitespaces.\n"
   ]
  },
  {
   "cell_type": "code",
   "execution_count": 60,
   "id": "fe43d7bd-6b5c-4dbb-986d-9746250004aa",
   "metadata": {},
   "outputs": [
    {
     "name": "stdout",
     "output_type": "stream",
     "text": [
      "Hello                                                                                                                                                                                                                                                                                                                                                                                                                                                                                                                                                                                                                                                                                                                                                                                                                                                                                                                                                                                                                                    this                                                                                                                                                                                                                                                                                                                                                                                                                                                                                                                                                                                                                                                                                                                                                                                                                                                                                                                                                                                                                                    python\n"
     ]
    }
   ],
   "source": [
    "# Example\n",
    "text = \"Hello\\t this  \\t python\"\n",
    "X = text.expandtabs(1000) \n",
    "print(X)\n"
   ]
  },
  {
   "cell_type": "markdown",
   "id": "01d8c730-cd62-4e9b-8f9b-16a8aa0e720c",
   "metadata": {},
   "source": [
    "# find() Method\n",
    "## DEFINE : The find() method finds the first occurrence of the specified value."
   ]
  },
  {
   "cell_type": "code",
   "execution_count": 69,
   "id": "44ed1d64-48c9-44b5-9e04-8bd9df4c0560",
   "metadata": {},
   "outputs": [
    {
     "name": "stdout",
     "output_type": "stream",
     "text": [
      "20\n"
     ]
    }
   ],
   "source": [
    "# Example1:-\n",
    "text = \" virat kohli is the king of cricket.\"\n",
    "a = text.find(\"king\")\n",
    "print(a)"
   ]
  },
  {
   "cell_type": "markdown",
   "id": "cf66b195-2619-4cf0-9370-b8ffe73fddf9",
   "metadata": {},
   "source": [
    "# format() Method\n",
    "## DEFINE : The find() method finds the first occurrence of the specified value and returns -1 if the value is not found.\n"
   ]
  },
  {
   "cell_type": "code",
   "execution_count": 74,
   "id": "681c8dea-e75a-4183-ae72-68c35a4ae6fb",
   "metadata": {},
   "outputs": [
    {
     "name": "stdout",
     "output_type": "stream",
     "text": [
      "For only 49.00 dollars!\n"
     ]
    }
   ],
   "source": [
    "# Example\n",
    "txt = \"For only {price:.2f} dollars!\"\n",
    "print(txt.format(price = 49))\n"
   ]
  },
  {
   "cell_type": "markdown",
   "id": "0395e2ee-c5cc-4f30-8224-b1e53bc1cc04",
   "metadata": {},
   "source": [
    "# index() Method\n",
    "## DEFINE :The index() method finds the first occurrence of the specified value."
   ]
  },
  {
   "cell_type": "code",
   "execution_count": 81,
   "id": "be7cd7ca-5a8f-489e-9169-267a58cdb1ef",
   "metadata": {},
   "outputs": [
    {
     "name": "stdout",
     "output_type": "stream",
     "text": [
      "7\n"
     ]
    }
   ],
   "source": [
    "text = \"Hello, welcome to my world.\"\n",
    "\n",
    "x = text.index(\"welcome\")\n",
    "\n",
    "print(x)"
   ]
  },
  {
   "cell_type": "markdown",
   "id": "ab213023-1edd-400c-afa2-753982cceaf7",
   "metadata": {},
   "source": [
    "# isalnum()  Method\n",
    "## DEFINE: The isalnum() method returns True if all the characters are alphanumeric, meaning alphabet letter (a-z) and numbers (0-9)."
   ]
  },
  {
   "cell_type": "code",
   "execution_count": 87,
   "id": "b9bd137b-6da4-4e14-b092-71e8b8e0c4c1",
   "metadata": {},
   "outputs": [
    {
     "name": "stdout",
     "output_type": "stream",
     "text": [
      "False\n"
     ]
    }
   ],
   "source": [
    "# Example1\n",
    "text = \"hello Everyone,I am XYZ.\"\n",
    "a = text.isalnum()\n",
    "print(a)"
   ]
  },
  {
   "cell_type": "markdown",
   "id": "f46265f6-9e19-417b-9ed2-8ffcce2d9a0d",
   "metadata": {},
   "source": [
    "# isalpha()  Method\n",
    "## DEFINE: The isalpha() method returns True if all the characters are alphabet letters (a-z).\n"
   ]
  },
  {
   "cell_type": "code",
   "execution_count": 89,
   "id": "b392fef7-103a-4ed9-9d5b-2c48b5f93f2f",
   "metadata": {},
   "outputs": [
    {
     "name": "stdout",
     "output_type": "stream",
     "text": [
      "False\n"
     ]
    }
   ],
   "source": [
    "# Example1\n",
    "text = \"hello_Everyone\"\n",
    "X = text.isalpha()\n",
    "print(X)"
   ]
  },
  {
   "cell_type": "markdown",
   "id": "36b87797-49ff-4033-bc51-af3766c031f2",
   "metadata": {},
   "source": [
    "# isdecimal() Method\n",
    "## DEFINE: The isdecimal() method returns True if all the characters are decimals (0-9)."
   ]
  },
  {
   "cell_type": "code",
   "execution_count": 92,
   "id": "b8a1ec1c-6458-47cc-b858-90fbedc37b4c",
   "metadata": {},
   "outputs": [
    {
     "name": "stdout",
     "output_type": "stream",
     "text": [
      "False\n"
     ]
    }
   ],
   "source": [
    "# Example1\n",
    "text = \"hello_Everyone\"\n",
    "X = text.isdecimal()\n",
    "print(X)"
   ]
  },
  {
   "cell_type": "markdown",
   "id": "9a5b0250-6791-408a-8bbe-8b72073c07c1",
   "metadata": {},
   "source": [
    "# isdigit() Method\n",
    "## DEFINE: The isdigit() method returns True if all the characters are digits, otherwise False."
   ]
  },
  {
   "cell_type": "code",
   "execution_count": 96,
   "id": "632b0458-27dc-4a30-a8c1-5652a07da93d",
   "metadata": {},
   "outputs": [
    {
     "name": "stdout",
     "output_type": "stream",
     "text": [
      "False\n"
     ]
    }
   ],
   "source": [
    "# Example1\n",
    "text = \"hello_Everyone\"\n",
    "X = text.isdigit()\n",
    "print(X)"
   ]
  },
  {
   "cell_type": "markdown",
   "id": "8234f9a1-3981-4c6d-b30b-a9803720115b",
   "metadata": {},
   "source": [
    "# isidentifier() Method\n",
    "## DEFINE: The isidentifier() method returns True if the string is a valid identifier, otherwise False."
   ]
  },
  {
   "cell_type": "code",
   "execution_count": 100,
   "id": "8d4c3171-6407-48b2-b748-27e8fade57e1",
   "metadata": {},
   "outputs": [
    {
     "name": "stdout",
     "output_type": "stream",
     "text": [
      "True\n"
     ]
    }
   ],
   "source": [
    "# Example1\n",
    "text = \"hello_Everyone\"\n",
    "a = text.isidentifier()\n",
    "print(a)"
   ]
  },
  {
   "cell_type": "markdown",
   "id": "62b7cd0c-3524-49ef-8b7b-2291dddf7926",
   "metadata": {},
   "source": [
    "# islower() Method\n",
    "## DEFINE: The islower() method returns True if all the characters are in lower case, otherwise False."
   ]
  },
  {
   "cell_type": "code",
   "execution_count": 103,
   "id": "d03893c9-8f6f-40cf-a4c0-d04a6b07b5d0",
   "metadata": {},
   "outputs": [
    {
     "name": "stdout",
     "output_type": "stream",
     "text": [
      "True\n"
     ]
    }
   ],
   "source": [
    "# Example1\n",
    "text = \"hello everyone\"\n",
    "X = text.islower()\n",
    "print(X)"
   ]
  },
  {
   "cell_type": "markdown",
   "id": "86e5ebdd-2a40-41bb-86fb-ad8d69c544b5",
   "metadata": {},
   "source": [
    "# partition() Method\n",
    "## DEFINE: The partition() method searches for a specified string, and splits the string into a tuple containing three elements.\n",
    "* The first element contains the part before the specified string.\n",
    "* The second element contains the specified string.\n",
    "* The third element contains the part after the string."
   ]
  },
  {
   "cell_type": "code",
   "execution_count": 106,
   "id": "f0ba78bf-f226-4842-a415-faf62ba48981",
   "metadata": {},
   "outputs": [
    {
     "name": "stdout",
     "output_type": "stream",
     "text": [
      "('I could eat ', 'apple', ' all day')\n"
     ]
    }
   ],
   "source": [
    "# Example\n",
    "txt = \"I could eat apple all day\"\n",
    "\n",
    "x = txt.partition(\"apple\")\n",
    "\n",
    "print(x)"
   ]
  },
  {
   "cell_type": "markdown",
   "id": "807ab7c3-ca04-4812-b8c5-c180c6118ede",
   "metadata": {},
   "source": [
    "# join() Method\n",
    "## DEFINE: The join() method takes all items in an iterable and joins them into one string."
   ]
  },
  {
   "cell_type": "code",
   "execution_count": 109,
   "id": "f0094e2b-b0a4-4c6a-933f-d1a4b7aca0fb",
   "metadata": {},
   "outputs": [
    {
     "name": "stdout",
     "output_type": "stream",
     "text": [
      "Ram#Sham#Vicky\n"
     ]
    }
   ],
   "source": [
    "# Example\n",
    "myTuple = (\"Ram\", \"Sham\", \"Vicky\")\n",
    "\n",
    "x = \"#\".join(myTuple)\n",
    "\n",
    "print(x)\n"
   ]
  },
  {
   "cell_type": "markdown",
   "id": "ff077a49-4af7-43df-a81e-384b72fb6179",
   "metadata": {},
   "source": [
    "# split() Method\n",
    "## DEFINE: The split() method splits a string into a list."
   ]
  },
  {
   "cell_type": "code",
   "execution_count": 133,
   "id": "6550326c-ddcc-4a46-97d6-d14ef0f20e43",
   "metadata": {},
   "outputs": [
    {
     "name": "stdout",
     "output_type": "stream",
     "text": [
      "['Hello Everyone', 'This is juputer notebook!']\n"
     ]
    }
   ],
   "source": [
    "# Example\n",
    "text = \"Hello Everyone, This is juputer notebook!\"\n",
    "x = text.split(\", \")\n",
    "print(x)"
   ]
  },
  {
   "cell_type": "markdown",
   "id": "d4dcf308-714e-4b69-9be9-fb2bedff1321",
   "metadata": {},
   "source": [
    "# swapcase() Method\n",
    "## DEFINE: The swapcase() method returns a string where all the upper case letters are lower case and vice versa."
   ]
  },
  {
   "cell_type": "code",
   "execution_count": 140,
   "id": "11d2c80d-f8fc-4836-8e1e-2027f56196e7",
   "metadata": {},
   "outputs": [
    {
     "name": "stdout",
     "output_type": "stream",
     "text": [
      "HELLO EVERYONE, tHIS IS JUPUTER NOTEBOOK!\n"
     ]
    }
   ],
   "source": [
    "# Example\n",
    "text = \"hello everyone, This is juputer notebook!\"\n",
    "X = text.swapcase()\n",
    "print(X)"
   ]
  },
  {
   "cell_type": "markdown",
   "id": "bae41b92-9c37-4507-8b05-743fa00560e1",
   "metadata": {},
   "source": [
    "# startswith() Method\n",
    "## DEFINE: The startswith() method returns True if the string starts with the specified value, otherwise False."
   ]
  },
  {
   "cell_type": "code",
   "execution_count": 138,
   "id": "0390071e-e759-4355-b8d7-a81d35dc35b1",
   "metadata": {},
   "outputs": [
    {
     "name": "stdout",
     "output_type": "stream",
     "text": [
      "False\n"
     ]
    }
   ],
   "source": [
    "#Example\n",
    "text = \"Hello Everyone, This is juputer notebook!\"\n",
    "x = text.startswith(\"I\",16,20)\n",
    "print(x)\n"
   ]
  },
  {
   "cell_type": "markdown",
   "id": "dc3acd3e-3233-4ee3-a820-be4a8d8a3a64",
   "metadata": {},
   "source": [
    "# zfill() Method\n",
    "## DEFINE: The zfill() method adds zeros (0) at the beginning of the string, until it reaches the specified length,If the value of the len parameter is less than the length of the string, no filling is done."
   ]
  },
  {
   "cell_type": "code",
   "execution_count": 145,
   "id": "94fe5836-52aa-45a1-9ad9-92e8d6be12ed",
   "metadata": {},
   "outputs": [
    {
     "name": "stdout",
     "output_type": "stream",
     "text": [
      "00000000000000000000000000000000000000000000000000000000000Hello Everyone, This is juputer notebook!\n"
     ]
    }
   ],
   "source": [
    "# Example1:-\n",
    "text = \"Hello Everyone, This is juputer notebook!\"\n",
    "X = text.zfill(100)\n",
    "print(X)"
   ]
  },
  {
   "cell_type": "code",
   "execution_count": null,
   "id": "81e490d5-4e23-40c6-864a-cb094fdf15b7",
   "metadata": {},
   "outputs": [],
   "source": []
  }
 ],
 "metadata": {
  "kernelspec": {
   "display_name": "Python 3 (ipykernel)",
   "language": "python",
   "name": "python3"
  },
  "language_info": {
   "codemirror_mode": {
    "name": "ipython",
    "version": 3
   },
   "file_extension": ".py",
   "mimetype": "text/x-python",
   "name": "python",
   "nbconvert_exporter": "python",
   "pygments_lexer": "ipython3",
   "version": "3.12.4"
  }
 },
 "nbformat": 4,
 "nbformat_minor": 5
}
